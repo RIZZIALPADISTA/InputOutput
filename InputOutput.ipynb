{
 "cells": [
  {
   "cell_type": "code",
   "execution_count": null,
   "id": "7d35f799",
   "metadata": {},
   "outputs": [],
   "source": [
    "nama_depan = input(\"Masukan nama depan :\")\n",
    "nama_tengah = input(\"Masukan nama tengah :\")\n",
    "nama_belakang = input(\"Masukan nama depan :\")"
   ]
  },
  {
   "cell_type": "code",
   "execution_count": 17,
   "id": "afde4a5e",
   "metadata": {},
   "outputs": [
    {
     "name": "stdout",
     "output_type": "stream",
     "text": [
      "Masukan bilangan 1 = 2\n",
      "Masukan bilangan 2 = 2\n",
      "Hasil penjumlahan adalah 4\n"
     ]
    }
   ],
   "source": [
    "# Penggunaan syntax input\n",
    "bil_1 = input(\"Masukan bilangan 1 = \")\n",
    "bil_2 = input(\"Masukan bilangan 2 = \")\n",
    "hasil = int(bil_1) + int(bil_2)\n",
    "print(\"Hasil penjumlahan adalah\", hasil)"
   ]
  },
  {
   "cell_type": "code",
   "execution_count": 16,
   "id": "0b5d919b",
   "metadata": {},
   "outputs": [
    {
     "name": "stdout",
     "output_type": "stream",
     "text": [
      "Masukan angka = 1\n",
      "Masukan angka = 3\n",
      "\n",
      "Luas persegi panjang = 3\n",
      "Keliling persegi pangjang = 8\n"
     ]
    }
   ],
   "source": [
    "# Penggunaan syntax input\n",
    "panjang = input(\"Masukan angka = \")\n",
    "lebar = input(\"Masukan angka = \")\n",
    "luas = int(panjang) * int(lebar)\n",
    "keliling = 2 * (int(panjang) + int(lebar)) \n",
    "print(\"\\nLuas persegi panjang =\", luas)\n",
    "print(\"Keliling persegi pangjang =\", keliling)"
   ]
  },
  {
   "cell_type": "code",
   "execution_count": 22,
   "id": "a52599bb",
   "metadata": {},
   "outputs": [
    {
     "name": "stdout",
     "output_type": "stream",
     "text": [
      "Senin**Selasa**Rabu**Kamis**Jum'at**Sabtu**Minggu\n",
      "Senin*Selasa*Rabu*Kamis*Jum'at*Sabtu*Minggu.Senin\n",
      "Selasa\n",
      "Rabu\n",
      "Kamis\n",
      "Jum'at\n",
      "Sabtu\n",
      "Minggu\n"
     ]
    }
   ],
   "source": [
    "# Penggunaan Output dengan Separator\n",
    "print(\"Senin\", \"Selasa\", \"Rabu\", \"Kamis\", \"Jum'at\", \"Sabtu\", \"Minggu\", sep=\"*\" * 2)\n",
    "print(\"Senin\", \"Selasa\", \"Rabu\", \"Kamis\", \"Jum'at\", \"Sabtu\", \"Minggu\", sep=\"*\", end=\".\")\n",
    "print(\"Senin\", \"Selasa\", \"Rabu\", \"Kamis\", \"Jum'at\", \"Sabtu\", \"Minggu\", sep=\"\\n\")"
   ]
  },
  {
   "cell_type": "code",
   "execution_count": 29,
   "id": "a7b164f2",
   "metadata": {},
   "outputs": [
    {
     "name": "stdout",
     "output_type": "stream",
     "text": [
      "Hasil perkalian 7 dengan 10 adalah 70\n",
      "Hasil perkalian 7 dengan 10 adalah 70\n"
     ]
    }
   ],
   "source": [
    "# Penggunaan Output dengan str.format\n",
    "number1 = 7\n",
    "number2 = 10\n",
    "\n",
    "print(\"Hasil perkalian {} dengan {} adalah {}\".format(number1, number2, number1 * number2))\n",
    "print(f\"Hasil perkalian {number1} dengan {number2} adalah {number1 * number2}\")\n",
    "\n"
   ]
  },
  {
   "cell_type": "code",
   "execution_count": 31,
   "id": "e37f7fa9",
   "metadata": {},
   "outputs": [
    {
     "name": "stdout",
     "output_type": "stream",
     "text": [
      "Nama Lengkap RIZZI ALPADISTA S.kom\n",
      "Nama Lengkap RIZZI ALPADISTA S.kom\n"
     ]
    }
   ],
   "source": [
    "nama_depan = (\"RIZZI\")\n",
    "nama_tengah = (\"ALPADISTA\")\n",
    "nama_belakang =(\"S.kom\")\n",
    "\n",
    "print(\"Nama Lengkap {} {} {}\".format(nama_depan, nama_tengah, nama_belakang))\n",
    "print(f\"Nama Lengkap {nama_depan} {nama_tengah} {nama_belakang}\")"
   ]
  },
  {
   "cell_type": "code",
   "execution_count": 35,
   "id": "38ad7421",
   "metadata": {},
   "outputs": [
    {
     "name": "stdout",
     "output_type": "stream",
     "text": [
      "Sekarang tanggal 20 bulan Maret tahun 2024\n"
     ]
    }
   ],
   "source": [
    "print(\"Sekarang tanggal {tanggal} bulan {bulan} tahun {tahun}\".format(tanggal = 20, bulan = \"Maret\", tahun = 2024))\n"
   ]
  },
  {
   "cell_type": "code",
   "execution_count": 43,
   "id": "1ebbcacd",
   "metadata": {},
   "outputs": [
    {
     "name": "stdout",
     "output_type": "stream",
     "text": [
      "Huruf pertama adalah : U\n",
      "Huruf terakhir adalah : A\n",
      "Huruf Range 0-10 :  \n",
      "PUTRA\n",
      "NUSA PUTRA\n",
      "ARTUP ASUN SATISREVINU\n"
     ]
    }
   ],
   "source": [
    "# Index pada String\n",
    "kampus = \"UNIVERSITAS NUSA PUTRA\"\n",
    "print(\"Huruf pertama adalah :\", kampus[0])\n",
    "print(\"Huruf terakhir adalah :\", kampus[-1])\n",
    "print(\"Huruf Range 0-10 :\", kampus[0-11])\n",
    "\n",
    "print(kampus[-5:])\n",
    "print(kampus[12:])\n",
    "\n",
    "#Reverse String\n",
    "print(kampus[::-1])"
   ]
  },
  {
   "cell_type": "code",
   "execution_count": 50,
   "id": "2792eb34",
   "metadata": {},
   "outputs": [
    {
     "name": "stdout",
     "output_type": "stream",
     "text": [
      "['Jakarta', 'Sukabumi', 'Bogor', 'Bekasi']\n",
      "Jakarta\n",
      "J a k a r t a   S u k a b u m i   B o g o r   B e k a s i\n"
     ]
    }
   ],
   "source": [
    "# Split => String -> List\n",
    "kota = \"Jakarta Sukabumi Bogor Bekasi\"\n",
    "kota_list = kota.split()\n",
    "print(kota_list)\n",
    "print(kota_list[0])\n",
    "\n",
    "# Join => List -> String\n",
    "kota_string = \" \".join(kota)\n",
    "print(kota_string)"
   ]
  },
  {
   "cell_type": "code",
   "execution_count": null,
   "id": "955b41ae",
   "metadata": {},
   "outputs": [],
   "source": [
    "\n"
   ]
  },
  {
   "cell_type": "code",
   "execution_count": null,
   "id": "d8fa73d3",
   "metadata": {},
   "outputs": [],
   "source": []
  },
  {
   "cell_type": "code",
   "execution_count": 17,
   "id": "71f053f0",
   "metadata": {},
   "outputs": [
    {
     "name": "stdout",
     "output_type": "stream",
     "text": [
      "Isikan Nama Anda :RIZZI ALPADISTA\n",
      "Isikan Tanggal lahir anda :28/02/2003\n",
      "Nama Awal :  RIZZI\n",
      "Nama Akhir :  ALPADISTA\n",
      "Nama Inisial :  RA\n",
      "Tanggal Lahir :  28\n",
      "Tahun Lahir :  2003\n",
      "Bulan Lahir :  Februari\n"
     ]
    }
   ],
   "source": [
    "nama = input(\"Isikan Nama Anda :\" )\n",
    "tanggal_lahir = input(\"Isikan Tanggal lahir anda :\" )\n",
    "\n",
    "list_nama = nama.split()\n",
    "print(\"Nama Awal : \",list_nama[0])\n",
    "print(\"Nama Akhir : \",list_nama[1])\n",
    "\n",
    "inisial = list_nama[0][0] + list_nama[1][0]\n",
    "print(\"Nama Inisial : \", inisial)\n",
    "\n",
    "list_tanggal = tanggal_lahir.split(\"/\")\n",
    "list_tanggal[1]\n",
    "print(\"Tanggal Lahir : \",list_tanggal[0])\n",
    "print(\"Tahun Lahir : \",list_tanggal[2])\n",
    "\n",
    "keterangan = \"\"\n",
    "\n",
    "if list_tanggal[1] == \"01\":\n",
    "    keterangan = \"Januari\"\n",
    "elif list_tanggal[1] == \"02\":\n",
    "    keterangan= \"Februari\"\n",
    "elif list_tanggal[1] == \"03\":\n",
    "    keterangan= \"Maret\"\n",
    "elif list_tanggal[1] == \"04\":\n",
    "    keterangan = \"April\"\n",
    "elif list_tanggal[1] == \"05\":\n",
    "    keterangan = \"Mei\"\n",
    "elif list_tanggal[1] == \"06\":\n",
    "    keterangan = \"Juni\"\n",
    "elif list_tanggal[1] == \"07\":\n",
    "    keterangan = \"Juli\"\n",
    "elif list_tanggal[1] == \"08\":\n",
    "    keterangan = \"Agustus\"\n",
    "elif list_tanggal[1] == \"09\":\n",
    "    keterangan = \"September\"\n",
    "elif list_tanggal[1] == \"10\":\n",
    "    keterangan = \"Oktober\"\n",
    "elif list_tanggal[1] == \"11\":\n",
    "    keterangan = \"November\"\n",
    "elif list_tanggal[1] == \"12\":\n",
    "    keterangan = \"Desember\"\n",
    "else:\n",
    "    print(\"Data Tidak Ada.\")\n",
    "    \n",
    "print(\"Bulan Lahir : \", keterangan)"
   ]
  },
  {
   "cell_type": "code",
   "execution_count": null,
   "id": "00ddc090",
   "metadata": {},
   "outputs": [],
   "source": []
  },
  {
   "cell_type": "code",
   "execution_count": null,
   "id": "313a3781",
   "metadata": {},
   "outputs": [],
   "source": []
  }
 ],
 "metadata": {
  "kernelspec": {
   "display_name": "Python 3 (ipykernel)",
   "language": "python",
   "name": "python3"
  },
  "language_info": {
   "codemirror_mode": {
    "name": "ipython",
    "version": 3
   },
   "file_extension": ".py",
   "mimetype": "text/x-python",
   "name": "python",
   "nbconvert_exporter": "python",
   "pygments_lexer": "ipython3",
   "version": "3.9.12"
  }
 },
 "nbformat": 4,
 "nbformat_minor": 5
}
